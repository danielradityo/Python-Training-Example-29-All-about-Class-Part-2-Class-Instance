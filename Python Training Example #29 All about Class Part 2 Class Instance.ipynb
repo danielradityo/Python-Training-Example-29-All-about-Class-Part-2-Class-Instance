{
 "cells": [
  {
   "cell_type": "markdown",
   "metadata": {},
   "source": [
    "# Python Training Example #29 All about Class Part 2 Class Instance"
   ]
  },
  {
   "cell_type": "markdown",
   "metadata": {},
   "source": [
    "## Class Instance"
   ]
  },
  {
   "cell_type": "code",
   "execution_count": 4,
   "metadata": {},
   "outputs": [],
   "source": [
    "\"\"\"\"Class Instance is use for create an constructor in a class. \n",
    "This constructor can assign several attribute every each variable with a destination constructor called self.\n",
    "We can generate that attribute to every each variable. We can create a def function to this class instance\"\"\"\n",
    "class family_data:\n",
    "    home = 'Captain Street 45th'\n",
    "    def __init__ (self, name, age, gender, weight, height): # --> we can create function. use __init__ then describe the attribute\n",
    "        self.name = name\n",
    "        self.age = age\n",
    "        self.gender = gender\n",
    "        self.weight = weight\n",
    "        self.height = height"
   ]
  },
  {
   "cell_type": "markdown",
   "metadata": {},
   "source": [
    "## Assign Variable"
   ]
  },
  {
   "cell_type": "code",
   "execution_count": 5,
   "metadata": {},
   "outputs": [],
   "source": [
    "brother = family_data('Brother', 20, 'Male', 60, 170)\n",
    "sister = family_data('Sister', 17, 'Female', 45, 165)\n",
    "father = family_data('Father', 55, 'Male', 55, 168)\n",
    "mother = family_data('Brother', 53, 'Female', 50, 165)"
   ]
  },
  {
   "cell_type": "markdown",
   "metadata": {},
   "source": [
    "## Print Class Instance"
   ]
  },
  {
   "cell_type": "code",
   "execution_count": 10,
   "metadata": {},
   "outputs": [
    {
     "name": "stdout",
     "output_type": "stream",
     "text": [
      "Brother Male, 20 years old, have 60 kg and 170 cm, then live at Captain Street 45th\n",
      "Sister live at  Captain Street 45th\n",
      "Father live at  Captain Street 45th\n",
      "Mother live at  Captain Street 45th\n"
     ]
    }
   ],
   "source": [
    "# For print class use variable.__class__.attribute or can use variable.attribute\n",
    "print(brother.name + ' ' + brother.gender + ', ' + str(brother.age) + ' years old, have ' + str(brother.weight) + ' kg and ' + str(brother.height) + ' cm, then live at ' + brother.home)\n",
    "print('Sister live at ', sister.__class__.home)\n",
    "print('Father live at ', father.home)\n",
    "print('Mother live at ', mother.__class__.home)"
   ]
  }
 ],
 "metadata": {
  "kernelspec": {
   "display_name": "Python 3",
   "language": "python",
   "name": "python3"
  },
  "language_info": {
   "codemirror_mode": {
    "name": "ipython",
    "version": 3
   },
   "file_extension": ".py",
   "mimetype": "text/x-python",
   "name": "python",
   "nbconvert_exporter": "python",
   "pygments_lexer": "ipython3",
   "version": "3.8.5"
  }
 },
 "nbformat": 4,
 "nbformat_minor": 4
}
